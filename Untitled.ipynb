{
 "cells": [
  {
   "cell_type": "code",
   "execution_count": 1,
   "metadata": {},
   "outputs": [
    {
     "name": "stdout",
     "output_type": "stream",
     "text": [
      "[[ 0.  0.  5. ...  0.  0.  0.]\n",
      " [ 0.  0.  0. ... 10.  0.  0.]\n",
      " [ 0.  0.  0. ... 16.  9.  0.]\n",
      " ...\n",
      " [ 0.  0.  1. ...  6.  0.  0.]\n",
      " [ 0.  0.  2. ... 12.  0.  0.]\n",
      " [ 0.  0. 10. ... 12.  1.  0.]]\n"
     ]
    }
   ],
   "source": [
    "from sklearn import datasets\n",
    "iris = datasets.load_iris()\n",
    "digits = datasets.load_digits()\n",
    "print(digits.data)"
   ]
  },
  {
   "cell_type": "code",
   "execution_count": 2,
   "metadata": {},
   "outputs": [
    {
     "name": "stdout",
     "output_type": "stream",
     "text": [
      "Package            Version\n",
      "------------------ -------\n",
      "appnope            0.1.0  \n",
      "astroid            2.2.5  \n",
      "atomicwrites       1.3.0  \n",
      "attrs              19.1.0 \n",
      "backcall           0.1.0  \n",
      "bleach             3.1.0  \n",
      "cycler             0.10.0 \n",
      "decorator          4.4.0  \n",
      "defusedxml         0.6.0  \n",
      "entrypoints        0.3    \n",
      "importlib-metadata 0.18   \n",
      "ipykernel          5.1.1  \n",
      "ipython            7.5.0  \n",
      "ipython-genutils   0.2.0  \n",
      "ipywidgets         7.4.2  \n",
      "isort              4.3.20 \n",
      "jedi               0.13.3 \n",
      "Jinja2             2.10.1 \n",
      "joblib             0.13.2 \n",
      "jsonschema         3.0.1  \n",
      "jupyter            1.0.0  \n",
      "jupyter-client     5.2.4  \n",
      "jupyter-console    6.0.0  \n",
      "jupyter-core       4.4.0  \n",
      "kiwisolver         1.1.0  \n",
      "lazy-object-proxy  1.4.1  \n",
      "MarkupSafe         1.1.1  \n",
      "matplotlib         3.1.0  \n",
      "mccabe             0.6.1  \n",
      "mistune            0.8.4  \n",
      "more-itertools     7.0.0  \n",
      "nbconvert          5.5.0  \n",
      "nbformat           4.4.0  \n",
      "notebook           5.7.8  \n",
      "numpy              1.16.4 \n",
      "packaging          19.0   \n",
      "pandas             0.24.2 \n",
      "pandocfilters      1.4.2  \n",
      "parso              0.4.0  \n",
      "pexpect            4.7.0  \n",
      "pickleshare        0.7.5  \n",
      "pip                19.1.1 \n",
      "pluggy             0.12.0 \n",
      "prometheus-client  0.7.0  \n",
      "prompt-toolkit     2.0.9  \n",
      "ptyprocess         0.6.0  \n",
      "py                 1.8.0  \n",
      "Pygments           2.4.2  \n",
      "pylint             2.3.1  \n",
      "pyparsing          2.4.0  \n",
      "pyrsistent         0.15.2 \n",
      "pytest             4.6.3  \n",
      "python-dateutil    2.8.0  \n",
      "pytz               2019.1 \n",
      "pyzmq              18.0.1 \n",
      "qtconsole          4.5.1  \n",
      "scikit-learn       0.21.2 \n",
      "scipy              1.3.0  \n",
      "Send2Trash         1.5.0  \n",
      "setuptools         40.8.0 \n",
      "six                1.12.0 \n",
      "sklearn            0.0    \n",
      "terminado          0.8.2  \n",
      "testpath           0.4.2  \n",
      "torch              1.1.0  \n",
      "tornado            6.0.2  \n",
      "traitlets          4.3.2  \n",
      "typed-ast          1.4.0  \n",
      "wcwidth            0.1.7  \n",
      "webencodings       0.5.1  \n",
      "widgetsnbextension 3.4.2  \n",
      "wrapt              1.11.2 \n",
      "zipp               0.5.1  \n",
      "Note: you may need to restart the kernel to use updated packages.\n"
     ]
    }
   ],
   "source": [
    "pip list\n"
   ]
  },
  {
   "cell_type": "code",
   "execution_count": 4,
   "metadata": {},
   "outputs": [],
   "source": [
    "import scipy\n"
   ]
  },
  {
   "cell_type": "code",
   "execution_count": null,
   "metadata": {},
   "outputs": [],
   "source": []
  }
 ],
 "metadata": {
  "kernelspec": {
   "display_name": "Python 3",
   "language": "python",
   "name": "python3"
  },
  "language_info": {
   "codemirror_mode": {
    "name": "ipython",
    "version": 3
   },
   "file_extension": ".py",
   "mimetype": "text/x-python",
   "name": "python",
   "nbconvert_exporter": "python",
   "pygments_lexer": "ipython3",
   "version": "3.7.3"
  }
 },
 "nbformat": 4,
 "nbformat_minor": 2
}
