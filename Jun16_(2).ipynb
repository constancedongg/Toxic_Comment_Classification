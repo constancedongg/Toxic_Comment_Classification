{
  "nbformat": 4,
  "nbformat_minor": 0,
  "metadata": {
    "colab": {
      "name": "Jun16 (2).ipynb",
      "version": "0.3.2",
      "provenance": [],
      "collapsed_sections": [
        "Beqnle7lMqNX",
        "7W0fr2OUMqNy",
        "sOI1J-clMqOF"
      ],
      "toc_visible": true
    },
    "language_info": {
      "codemirror_mode": {
        "name": "ipython",
        "version": 3
      },
      "file_extension": ".py",
      "mimetype": "text/x-python",
      "name": "python",
      "nbconvert_exporter": "python",
      "pygments_lexer": "ipython3",
      "version": "3.6.3"
    },
    "kernelspec": {
      "display_name": "Python 3",
      "language": "python",
      "name": "python3"
    }
  },
  "cells": [
    {
      "cell_type": "markdown",
      "metadata": {
        "colab_type": "text",
        "id": "8LxQPhpLMqK9"
      },
      "source": [
        "# Kaggle -- Toxic Comment Classification Challenge"
      ]
    },
    {
      "cell_type": "markdown",
      "metadata": {
        "colab_type": "text",
        "id": "PgiqYyoMMqK_"
      },
      "source": [
        " "
      ]
    },
    {
      "cell_type": "markdown",
      "metadata": {
        "colab_type": "text",
        "id": "lI0hX_BJMqLB"
      },
      "source": [
        "Goal: build a multi-headed model to detect different types of of toxicity of online comments (from Wikipedia), there are 6 categories: toxic, severe-toxic, insult, obscene, threat, identity_hate.\n",
        "\n",
        "Model: SVM, logistic regression\n"
      ]
    },
    {
      "cell_type": "markdown",
      "metadata": {
        "colab_type": "text",
        "id": "Ox7z3DsRMqLD"
      },
      "source": [
        "### 1. Data Preprocessing"
      ]
    },
    {
      "cell_type": "code",
      "metadata": {
        "colab_type": "code",
        "id": "425tiXtPMqLE",
        "colab": {}
      },
      "source": [
        "import re\n",
        "from collections import Counter\n",
        "\n",
        "import numpy as np\n",
        "import numpy.random as npr\n",
        "import scipy as sp\n",
        "import scipy.sparse as sps\n",
        "import sklearn.svm as svm\n",
        "from sklearn.linear_model import LogisticRegression\n",
        "from sklearn.discriminant_analysis import LinearDiscriminantAnalysis as LDA\n",
        "import matplotlib.pyplot as plt\n",
        "from sklearn.model_selection import cross_val_score\n",
        "\n",
        "import pandas as pd\n",
        "\n",
        "%matplotlib inline\n"
      ],
      "execution_count": 0,
      "outputs": []
    },
    {
      "cell_type": "code",
      "metadata": {
        "colab_type": "code",
        "id": "9M2qwh0dMqLK",
        "outputId": "47dd9751-6823-4d77-ba56-6a111bb40ddc",
        "colab": {
          "base_uri": "https://localhost:8080/",
          "height": 736
        }
      },
      "source": [
        "# file_path = 'data/'\n",
        "file_path = 'drive/My Drive/Colab_Notebooks/'\n",
        "dat = pd.read_csv(file_path + 'train.csv')\n",
        "dat.head(10)"
      ],
      "execution_count": 2,
      "outputs": [
        {
          "output_type": "execute_result",
          "data": {
            "text/html": [
              "<div>\n",
              "<style scoped>\n",
              "    .dataframe tbody tr th:only-of-type {\n",
              "        vertical-align: middle;\n",
              "    }\n",
              "\n",
              "    .dataframe tbody tr th {\n",
              "        vertical-align: top;\n",
              "    }\n",
              "\n",
              "    .dataframe thead th {\n",
              "        text-align: right;\n",
              "    }\n",
              "</style>\n",
              "<table border=\"1\" class=\"dataframe\">\n",
              "  <thead>\n",
              "    <tr style=\"text-align: right;\">\n",
              "      <th></th>\n",
              "      <th>id</th>\n",
              "      <th>comment_text</th>\n",
              "      <th>toxic</th>\n",
              "      <th>severe_toxic</th>\n",
              "      <th>obscene</th>\n",
              "      <th>threat</th>\n",
              "      <th>insult</th>\n",
              "      <th>identity_hate</th>\n",
              "    </tr>\n",
              "  </thead>\n",
              "  <tbody>\n",
              "    <tr>\n",
              "      <th>0</th>\n",
              "      <td>0000997932d777bf</td>\n",
              "      <td>Explanation\\nWhy the edits made under my usern...</td>\n",
              "      <td>0</td>\n",
              "      <td>0</td>\n",
              "      <td>0</td>\n",
              "      <td>0</td>\n",
              "      <td>0</td>\n",
              "      <td>0</td>\n",
              "    </tr>\n",
              "    <tr>\n",
              "      <th>1</th>\n",
              "      <td>000103f0d9cfb60f</td>\n",
              "      <td>D'aww! He matches this background colour I'm s...</td>\n",
              "      <td>0</td>\n",
              "      <td>0</td>\n",
              "      <td>0</td>\n",
              "      <td>0</td>\n",
              "      <td>0</td>\n",
              "      <td>0</td>\n",
              "    </tr>\n",
              "    <tr>\n",
              "      <th>2</th>\n",
              "      <td>000113f07ec002fd</td>\n",
              "      <td>Hey man, I'm really not trying to edit war. It...</td>\n",
              "      <td>0</td>\n",
              "      <td>0</td>\n",
              "      <td>0</td>\n",
              "      <td>0</td>\n",
              "      <td>0</td>\n",
              "      <td>0</td>\n",
              "    </tr>\n",
              "    <tr>\n",
              "      <th>3</th>\n",
              "      <td>0001b41b1c6bb37e</td>\n",
              "      <td>\"\\nMore\\nI can't make any real suggestions on ...</td>\n",
              "      <td>0</td>\n",
              "      <td>0</td>\n",
              "      <td>0</td>\n",
              "      <td>0</td>\n",
              "      <td>0</td>\n",
              "      <td>0</td>\n",
              "    </tr>\n",
              "    <tr>\n",
              "      <th>4</th>\n",
              "      <td>0001d958c54c6e35</td>\n",
              "      <td>You, sir, are my hero. Any chance you remember...</td>\n",
              "      <td>0</td>\n",
              "      <td>0</td>\n",
              "      <td>0</td>\n",
              "      <td>0</td>\n",
              "      <td>0</td>\n",
              "      <td>0</td>\n",
              "    </tr>\n",
              "    <tr>\n",
              "      <th>5</th>\n",
              "      <td>00025465d4725e87</td>\n",
              "      <td>\"\\n\\nCongratulations from me as well, use the ...</td>\n",
              "      <td>0</td>\n",
              "      <td>0</td>\n",
              "      <td>0</td>\n",
              "      <td>0</td>\n",
              "      <td>0</td>\n",
              "      <td>0</td>\n",
              "    </tr>\n",
              "    <tr>\n",
              "      <th>6</th>\n",
              "      <td>0002bcb3da6cb337</td>\n",
              "      <td>COCKSUCKER BEFORE YOU PISS AROUND ON MY WORK</td>\n",
              "      <td>1</td>\n",
              "      <td>1</td>\n",
              "      <td>1</td>\n",
              "      <td>0</td>\n",
              "      <td>1</td>\n",
              "      <td>0</td>\n",
              "    </tr>\n",
              "    <tr>\n",
              "      <th>7</th>\n",
              "      <td>00031b1e95af7921</td>\n",
              "      <td>Your vandalism to the Matt Shirvington article...</td>\n",
              "      <td>0</td>\n",
              "      <td>0</td>\n",
              "      <td>0</td>\n",
              "      <td>0</td>\n",
              "      <td>0</td>\n",
              "      <td>0</td>\n",
              "    </tr>\n",
              "    <tr>\n",
              "      <th>8</th>\n",
              "      <td>00037261f536c51d</td>\n",
              "      <td>Sorry if the word 'nonsense' was offensive to ...</td>\n",
              "      <td>0</td>\n",
              "      <td>0</td>\n",
              "      <td>0</td>\n",
              "      <td>0</td>\n",
              "      <td>0</td>\n",
              "      <td>0</td>\n",
              "    </tr>\n",
              "    <tr>\n",
              "      <th>9</th>\n",
              "      <td>00040093b2687caa</td>\n",
              "      <td>alignment on this subject and which are contra...</td>\n",
              "      <td>0</td>\n",
              "      <td>0</td>\n",
              "      <td>0</td>\n",
              "      <td>0</td>\n",
              "      <td>0</td>\n",
              "      <td>0</td>\n",
              "    </tr>\n",
              "  </tbody>\n",
              "</table>\n",
              "</div>"
            ],
            "text/plain": [
              "                 id  ... identity_hate\n",
              "0  0000997932d777bf  ...             0\n",
              "1  000103f0d9cfb60f  ...             0\n",
              "2  000113f07ec002fd  ...             0\n",
              "3  0001b41b1c6bb37e  ...             0\n",
              "4  0001d958c54c6e35  ...             0\n",
              "5  00025465d4725e87  ...             0\n",
              "6  0002bcb3da6cb337  ...             0\n",
              "7  00031b1e95af7921  ...             0\n",
              "8  00037261f536c51d  ...             0\n",
              "9  00040093b2687caa  ...             0\n",
              "\n",
              "[10 rows x 8 columns]"
            ]
          },
          "metadata": {
            "tags": []
          },
          "execution_count": 2
        }
      ]
    },
    {
      "cell_type": "code",
      "metadata": {
        "colab_type": "code",
        "id": "ZHW8_2UyMqLR",
        "outputId": "b4fff93b-827a-4215-daa3-bec40bef65f7",
        "colab": {
          "base_uri": "https://localhost:8080/",
          "height": 855
        }
      },
      "source": [
        "dat.tail(10)"
      ],
      "execution_count": 3,
      "outputs": [
        {
          "output_type": "execute_result",
          "data": {
            "text/html": [
              "<div>\n",
              "<style scoped>\n",
              "    .dataframe tbody tr th:only-of-type {\n",
              "        vertical-align: middle;\n",
              "    }\n",
              "\n",
              "    .dataframe tbody tr th {\n",
              "        vertical-align: top;\n",
              "    }\n",
              "\n",
              "    .dataframe thead th {\n",
              "        text-align: right;\n",
              "    }\n",
              "</style>\n",
              "<table border=\"1\" class=\"dataframe\">\n",
              "  <thead>\n",
              "    <tr style=\"text-align: right;\">\n",
              "      <th></th>\n",
              "      <th>id</th>\n",
              "      <th>comment_text</th>\n",
              "      <th>toxic</th>\n",
              "      <th>severe_toxic</th>\n",
              "      <th>obscene</th>\n",
              "      <th>threat</th>\n",
              "      <th>insult</th>\n",
              "      <th>identity_hate</th>\n",
              "    </tr>\n",
              "  </thead>\n",
              "  <tbody>\n",
              "    <tr>\n",
              "      <th>159561</th>\n",
              "      <td>ffd2e85b07b3c7e4</td>\n",
              "      <td>\"\\nNo he did not, read it again (I would have ...</td>\n",
              "      <td>0</td>\n",
              "      <td>0</td>\n",
              "      <td>0</td>\n",
              "      <td>0</td>\n",
              "      <td>0</td>\n",
              "      <td>0</td>\n",
              "    </tr>\n",
              "    <tr>\n",
              "      <th>159562</th>\n",
              "      <td>ffd72e9766c09c97</td>\n",
              "      <td>\"\\n Auto guides and the motoring press are not...</td>\n",
              "      <td>0</td>\n",
              "      <td>0</td>\n",
              "      <td>0</td>\n",
              "      <td>0</td>\n",
              "      <td>0</td>\n",
              "      <td>0</td>\n",
              "    </tr>\n",
              "    <tr>\n",
              "      <th>159563</th>\n",
              "      <td>ffe029a7c79dc7fe</td>\n",
              "      <td>\"\\nplease identify what part of BLP applies be...</td>\n",
              "      <td>0</td>\n",
              "      <td>0</td>\n",
              "      <td>0</td>\n",
              "      <td>0</td>\n",
              "      <td>0</td>\n",
              "      <td>0</td>\n",
              "    </tr>\n",
              "    <tr>\n",
              "      <th>159564</th>\n",
              "      <td>ffe897e7f7182c90</td>\n",
              "      <td>Catalan independentism is the social movement ...</td>\n",
              "      <td>0</td>\n",
              "      <td>0</td>\n",
              "      <td>0</td>\n",
              "      <td>0</td>\n",
              "      <td>0</td>\n",
              "      <td>0</td>\n",
              "    </tr>\n",
              "    <tr>\n",
              "      <th>159565</th>\n",
              "      <td>ffe8b9316245be30</td>\n",
              "      <td>The numbers in parentheses are the additional ...</td>\n",
              "      <td>0</td>\n",
              "      <td>0</td>\n",
              "      <td>0</td>\n",
              "      <td>0</td>\n",
              "      <td>0</td>\n",
              "      <td>0</td>\n",
              "    </tr>\n",
              "    <tr>\n",
              "      <th>159566</th>\n",
              "      <td>ffe987279560d7ff</td>\n",
              "      <td>\":::::And for the second time of asking, when ...</td>\n",
              "      <td>0</td>\n",
              "      <td>0</td>\n",
              "      <td>0</td>\n",
              "      <td>0</td>\n",
              "      <td>0</td>\n",
              "      <td>0</td>\n",
              "    </tr>\n",
              "    <tr>\n",
              "      <th>159567</th>\n",
              "      <td>ffea4adeee384e90</td>\n",
              "      <td>You should be ashamed of yourself \\n\\nThat is ...</td>\n",
              "      <td>0</td>\n",
              "      <td>0</td>\n",
              "      <td>0</td>\n",
              "      <td>0</td>\n",
              "      <td>0</td>\n",
              "      <td>0</td>\n",
              "    </tr>\n",
              "    <tr>\n",
              "      <th>159568</th>\n",
              "      <td>ffee36eab5c267c9</td>\n",
              "      <td>Spitzer \\n\\nUmm, theres no actual article for ...</td>\n",
              "      <td>0</td>\n",
              "      <td>0</td>\n",
              "      <td>0</td>\n",
              "      <td>0</td>\n",
              "      <td>0</td>\n",
              "      <td>0</td>\n",
              "    </tr>\n",
              "    <tr>\n",
              "      <th>159569</th>\n",
              "      <td>fff125370e4aaaf3</td>\n",
              "      <td>And it looks like it was actually you who put ...</td>\n",
              "      <td>0</td>\n",
              "      <td>0</td>\n",
              "      <td>0</td>\n",
              "      <td>0</td>\n",
              "      <td>0</td>\n",
              "      <td>0</td>\n",
              "    </tr>\n",
              "    <tr>\n",
              "      <th>159570</th>\n",
              "      <td>fff46fc426af1f9a</td>\n",
              "      <td>\"\\nAnd ... I really don't think you understand...</td>\n",
              "      <td>0</td>\n",
              "      <td>0</td>\n",
              "      <td>0</td>\n",
              "      <td>0</td>\n",
              "      <td>0</td>\n",
              "      <td>0</td>\n",
              "    </tr>\n",
              "  </tbody>\n",
              "</table>\n",
              "</div>"
            ],
            "text/plain": [
              "                      id  ... identity_hate\n",
              "159561  ffd2e85b07b3c7e4  ...             0\n",
              "159562  ffd72e9766c09c97  ...             0\n",
              "159563  ffe029a7c79dc7fe  ...             0\n",
              "159564  ffe897e7f7182c90  ...             0\n",
              "159565  ffe8b9316245be30  ...             0\n",
              "159566  ffe987279560d7ff  ...             0\n",
              "159567  ffea4adeee384e90  ...             0\n",
              "159568  ffee36eab5c267c9  ...             0\n",
              "159569  fff125370e4aaaf3  ...             0\n",
              "159570  fff46fc426af1f9a  ...             0\n",
              "\n",
              "[10 rows x 8 columns]"
            ]
          },
          "metadata": {
            "tags": []
          },
          "execution_count": 3
        }
      ]
    },
    {
      "cell_type": "code",
      "metadata": {
        "colab_type": "code",
        "id": "xlUetAYxMqLV",
        "outputId": "a5f087a2-0b64-4b59-8e84-b2a2ec5c8b53",
        "scrolled": true,
        "colab": {
          "base_uri": "https://localhost:8080/",
          "height": 34
        }
      },
      "source": [
        "dat.shape"
      ],
      "execution_count": 4,
      "outputs": [
        {
          "output_type": "execute_result",
          "data": {
            "text/plain": [
              "(159571, 8)"
            ]
          },
          "metadata": {
            "tags": []
          },
          "execution_count": 4
        }
      ]
    },
    {
      "cell_type": "code",
      "metadata": {
        "colab_type": "code",
        "id": "q7NQI65eMqLZ",
        "colab": {}
      },
      "source": [
        "n = dat.shape[0]"
      ],
      "execution_count": 0,
      "outputs": []
    },
    {
      "cell_type": "code",
      "metadata": {
        "colab_type": "code",
        "id": "kha90uu6MqLb",
        "colab": {}
      },
      "source": [
        "X_raw = dat['comment_text']\n",
        "y_raw = dat.loc[ : ,'toxic':'identity_hate']"
      ],
      "execution_count": 0,
      "outputs": []
    },
    {
      "cell_type": "code",
      "metadata": {
        "colab_type": "code",
        "id": "DKdBVnbZMqLe",
        "colab": {}
      },
      "source": [
        ""
      ],
      "execution_count": 0,
      "outputs": []
    },
    {
      "cell_type": "markdown",
      "metadata": {
        "colab_type": "text",
        "id": "WJs5bxfsMqLh"
      },
      "source": [
        "## Binary Classification first"
      ]
    },
    {
      "cell_type": "markdown",
      "metadata": {
        "colab_type": "text",
        "id": "MJKg2eJeMqLi"
      },
      "source": [
        "First try to classify the comment into two categories which are toxic and non-toxic, instead of 6."
      ]
    },
    {
      "cell_type": "markdown",
      "metadata": {
        "colab_type": "text",
        "id": "UhbiO50aMqLi"
      },
      "source": [
        "Mark a row as 1 if any of the labels are assigned to this row"
      ]
    },
    {
      "cell_type": "code",
      "metadata": {
        "colab_type": "code",
        "id": "ylNQXUCHMqLj",
        "colab": {}
      },
      "source": [
        "y = y_raw.any(axis=1) * 2 - 1\n",
        "y = y.values"
      ],
      "execution_count": 0,
      "outputs": []
    },
    {
      "cell_type": "markdown",
      "metadata": {
        "colab_type": "text",
        "id": "kQWPQ39IMqLm"
      },
      "source": [
        "frequency table of y, non-toxic is 9~10 times more than toxic comments"
      ]
    },
    {
      "cell_type": "code",
      "metadata": {
        "colab_type": "code",
        "id": "G47IonUrMqLn",
        "outputId": "bdb3bc85-8fdc-4121-9512-658334a500c1",
        "colab": {
          "base_uri": "https://localhost:8080/",
          "height": 34
        }
      },
      "source": [
        "Counter(y)"
      ],
      "execution_count": 8,
      "outputs": [
        {
          "output_type": "execute_result",
          "data": {
            "text/plain": [
              "Counter({-1: 143346, 1: 16225})"
            ]
          },
          "metadata": {
            "tags": []
          },
          "execution_count": 8
        }
      ]
    },
    {
      "cell_type": "markdown",
      "metadata": {
        "colab_type": "text",
        "id": "DJzlj7DOMqLr"
      },
      "source": [
        "Extract X, a 0-1 vector of words"
      ]
    },
    {
      "cell_type": "code",
      "metadata": {
        "colab_type": "code",
        "id": "NJvj6Q5GMqLs",
        "colab": {}
      },
      "source": [
        "split_s = re.compile(r\"[a-z]+\", re.IGNORECASE)"
      ],
      "execution_count": 0,
      "outputs": []
    },
    {
      "cell_type": "code",
      "metadata": {
        "colab_type": "code",
        "id": "OJB-mwM9MqLv",
        "colab": {}
      },
      "source": [
        "X_raw1 = X_raw.apply(lambda s: split_s.findall(s.lower()))"
      ],
      "execution_count": 0,
      "outputs": []
    },
    {
      "cell_type": "code",
      "metadata": {
        "colab_type": "code",
        "id": "tQSnVALZMqLz",
        "outputId": "e2e9c938-1d99-45d9-9448-962952653189",
        "colab": {
          "base_uri": "https://localhost:8080/",
          "height": 119
        }
      },
      "source": [
        "X_raw1.head(5)"
      ],
      "execution_count": 11,
      "outputs": [
        {
          "output_type": "execute_result",
          "data": {
            "text/plain": [
              "0    [explanation, why, the, edits, made, under, my...\n",
              "1    [d, aww, he, matches, this, background, colour...\n",
              "2    [hey, man, i, m, really, not, trying, to, edit...\n",
              "3    [more, i, can, t, make, any, real, suggestions...\n",
              "4    [you, sir, are, my, hero, any, chance, you, re...\n",
              "Name: comment_text, dtype: object"
            ]
          },
          "metadata": {
            "tags": []
          },
          "execution_count": 11
        }
      ]
    },
    {
      "cell_type": "markdown",
      "metadata": {
        "colab_type": "text",
        "id": "NCcBv3T3MqL2"
      },
      "source": [
        "Construct a Counter object to store words and their counts; "
      ]
    },
    {
      "cell_type": "code",
      "metadata": {
        "colab_type": "code",
        "id": "nU-BzMsNMqL3",
        "colab": {}
      },
      "source": [
        "word_dict = Counter()\n",
        "\n",
        "for i in range(n):\n",
        "    word_dict.update(X_raw1[i])\n"
      ],
      "execution_count": 0,
      "outputs": []
    },
    {
      "cell_type": "code",
      "metadata": {
        "colab_type": "code",
        "id": "28hSxPL2MqL8",
        "outputId": "94bd5b89-53c6-49f4-e8e6-7dd4da60d5c4",
        "scrolled": false,
        "colab": {
          "base_uri": "https://localhost:8080/",
          "height": 187
        }
      },
      "source": [
        "{k: word_dict[k] for k in list(word_dict)[:10]}"
      ],
      "execution_count": 13,
      "outputs": [
        {
          "output_type": "execute_result",
          "data": {
            "text/plain": [
              "{'edits': 9995,\n",
              " 'explanation': 1771,\n",
              " 'hardcore': 167,\n",
              " 'made': 9685,\n",
              " 'metallica': 39,\n",
              " 'my': 45665,\n",
              " 'the': 497217,\n",
              " 'under': 7013,\n",
              " 'username': 1826,\n",
              " 'why': 17871}"
            ]
          },
          "metadata": {
            "tags": []
          },
          "execution_count": 13
        }
      ]
    },
    {
      "cell_type": "code",
      "metadata": {
        "colab_type": "code",
        "id": "ShzjIHDHMqMB",
        "outputId": "2b2caf05-fa90-4b0c-c5b3-743917eacb13",
        "scrolled": true,
        "colab": {
          "base_uri": "https://localhost:8080/",
          "height": 34
        }
      },
      "source": [
        "len(word_dict)"
      ],
      "execution_count": 14,
      "outputs": [
        {
          "output_type": "execute_result",
          "data": {
            "text/plain": [
              "168900"
            ]
          },
          "metadata": {
            "tags": []
          },
          "execution_count": 14
        }
      ]
    },
    {
      "cell_type": "markdown",
      "metadata": {
        "colab_type": "text",
        "id": "5758ZItQMqMG"
      },
      "source": [
        "Remove the words with counts smaller than or equal to 10, number of words significantly decreases"
      ]
    },
    {
      "cell_type": "code",
      "metadata": {
        "colab_type": "code",
        "id": "nAzMnD4RMqMK",
        "colab": {}
      },
      "source": [
        "word_dict = {k: word_dict[k] for k in list(word_dict) if word_dict[k] > 10}"
      ],
      "execution_count": 0,
      "outputs": []
    },
    {
      "cell_type": "code",
      "metadata": {
        "colab_type": "code",
        "id": "vDjwaU_LMqMU",
        "outputId": "c3f562c1-4f02-4b9a-c8e6-e98d11d743a5",
        "colab": {
          "base_uri": "https://localhost:8080/",
          "height": 34
        }
      },
      "source": [
        "len(word_dict)"
      ],
      "execution_count": 16,
      "outputs": [
        {
          "output_type": "execute_result",
          "data": {
            "text/plain": [
              "24735"
            ]
          },
          "metadata": {
            "tags": []
          },
          "execution_count": 16
        }
      ]
    },
    {
      "cell_type": "code",
      "metadata": {
        "colab_type": "code",
        "id": "bL4y3E9sMqMc",
        "colab": {}
      },
      "source": [
        "word_dict = {k: v for k, v in sorted(word_dict.items(),reverse = True, key = lambda kv: kv[1])}"
      ],
      "execution_count": 0,
      "outputs": []
    },
    {
      "cell_type": "code",
      "metadata": {
        "colab_type": "code",
        "id": "8H4fP4jLMqMi",
        "outputId": "0b690391-8281-44bd-c213-9991275307d4",
        "colab": {
          "base_uri": "https://localhost:8080/",
          "height": 187
        }
      },
      "source": [
        "{k: word_dict[k] for k in list(word_dict)[:10]}"
      ],
      "execution_count": 18,
      "outputs": [
        {
          "output_type": "execute_result",
          "data": {
            "text/plain": [
              "{'a': 217526,\n",
              " 'and': 224301,\n",
              " 'i': 240653,\n",
              " 'is': 176503,\n",
              " 'it': 148666,\n",
              " 'of': 225084,\n",
              " 'that': 160879,\n",
              " 'the': 497217,\n",
              " 'to': 297521,\n",
              " 'you': 218701}"
            ]
          },
          "metadata": {
            "tags": []
          },
          "execution_count": 18
        }
      ]
    },
    {
      "cell_type": "code",
      "metadata": {
        "colab_type": "code",
        "id": "yvX_EAdoMqMq",
        "colab": {}
      },
      "source": [
        ""
      ],
      "execution_count": 0,
      "outputs": []
    },
    {
      "cell_type": "markdown",
      "metadata": {
        "colab_type": "text",
        "id": "jNX-LxjrMqMt"
      },
      "source": [
        "Construct a stop word array for the those noninformative words, such as \"the\", \"to\"; select these words from the most frequent 150 words"
      ]
    },
    {
      "cell_type": "code",
      "metadata": {
        "colab_type": "code",
        "id": "cJTufgZDMqMt",
        "outputId": "06d8168b-394c-446d-b422-cfb428750777",
        "scrolled": true,
        "colab": {
          "base_uri": "https://localhost:8080/",
          "height": 54
        }
      },
      "source": [
        "stop_list = list(word_dict.keys())[:150]\n",
        "print(stop_list)"
      ],
      "execution_count": 19,
      "outputs": [
        {
          "output_type": "stream",
          "text": [
            "['the', 'to', 'i', 'of', 'and', 'you', 'a', 'is', 'that', 'it', 'in', 'for', 'this', 'not', 'on', 'be', 'as', 's', 'have', 'are', 'your', 't', 'with', 'if', 'article', 'was', 'or', 'but', 'wikipedia', 'page', 'my', 'an', 'from', 'by', 'do', 'at', 'can', 'talk', 'me', 'about', 'so', 'what', 'there', 'all', 'has', 'will', 'please', 'no', 'they', 'would', 'he', 'one', 'like', 'just', 'we', 'which', 'any', 'been', 'should', 'don', 'more', 'some', 'other', 'here', 'who', 'see', 'also', 'his', 'm', 'think', 'because', 'know', 'how', 'people', 'am', 'edit', 'why', 'up', 'only', 'out', 'articles', 'use', 'when', 'then', 'time', 'may', 'were', 'did', 'them', 'now', 'user', 'being', 'their', 're', 'than', 'thanks', 'even', 'get', 'make', 'good', 'had', 'well', 'very', 've', 'information', 'does', 'could', 'want', 'deletion', 'its', 'such', 'sources', 'way', 'name', 'image', 'these', 'first', 'wp', 'help', 'pages', 'new', 'source', 'editing', 'go', 'section', 'need', 'say', 'fuck', 'again', 'edits', 'where', 'thank', 'made', 'many', 'much', 'used', 'really', 'discussion', 'most', 'deleted', 'same', 'find', 'into', 'work', 'those', 'd', 'since', 'right', 'point', 'before']\n"
          ],
          "name": "stdout"
        }
      ]
    },
    {
      "cell_type": "code",
      "metadata": {
        "colab_type": "code",
        "id": "rOcLFc15MqMw",
        "colab": {}
      },
      "source": [
        "# manunally select from the top 150 frequent words\n",
        "stop_list = ['the', 'to', 'i', 'of', 'and', 'you', 'a', 'is', 'that', 'it', 'in', 'for', 'this', 'not', 'on', 'be', 'as', 's', 'have', 'are', 'your', 't', 'with', 'if', 'article', 'articles', 'was', 'or', 'but', 'wikipedia', 'page', 'my', 'an', 'from', 'by', 'do', 'at', 'can', 'me', 'about', 'so', 'what', 'there', 'all', 'has', 'will', 'no', 'they', 'he', 'one', 'we', 'which', 'any', 'been', 'more', 'some', 'other', 'here', 'who', 'also', 'his', 'm', 'because', 'know', 'how', 'am', 'why', 'up', 'out', 'when', 'then', 'time', 'were', 'did', 'them', 'now', 'being', 'their', 're', 'than', 've', 'does', 'its', 'such', 'sources', 'way', 'name', 'image', 'these', 'first', 'wp', 'pages', 'again', 'where', 'many', 'much', 'used', 'most', 'into', 'd', 'those', 'before']"
      ],
      "execution_count": 0,
      "outputs": []
    },
    {
      "cell_type": "code",
      "metadata": {
        "colab_type": "code",
        "id": "OH8ZJoR2MqMz",
        "colab": {}
      },
      "source": [
        ""
      ],
      "execution_count": 0,
      "outputs": []
    },
    {
      "cell_type": "markdown",
      "metadata": {
        "colab_type": "text",
        "id": "wd5BDUZiMqM2"
      },
      "source": [
        "Remove words in the stop_list"
      ]
    },
    {
      "cell_type": "code",
      "metadata": {
        "colab_type": "code",
        "id": "oYDQRcQXMqM2",
        "colab": {}
      },
      "source": [
        "filtered_words = [tup[0] for tup in word_dict.items()]\n",
        "for word in stop_list:\n",
        "    filtered_words.remove(word)\n",
        "filtered_words = np.asarray(filtered_words)"
      ],
      "execution_count": 0,
      "outputs": []
    },
    {
      "cell_type": "markdown",
      "metadata": {
        "colab_type": "text",
        "id": "51gCYKbhMqM7"
      },
      "source": [
        "Make Document-Term Matrix, each row is a document, the column is the whether the word occured in the document.\n",
        "But the dimension is too high, use sparse matrix structure in scipy.sparse instead."
      ]
    },
    {
      "cell_type": "code",
      "metadata": {
        "colab_type": "code",
        "id": "3cu20IdvMqM7",
        "colab": {}
      },
      "source": [
        "# no need to run every time, takes ~30 mins\n",
        "X = sps.lil_matrix((n, filtered_words.shape[0]), dtype=np.float64)\n",
        "for i in range(n):\n",
        "    X[i, np.in1d(filtered_words, X_raw1[i])] = 1\n",
        "# Save the X data for later use\n",
        "sps.save_npz(\"X_data.npz\", sps.coo_matrix(X))"
      ],
      "execution_count": 0,
      "outputs": []
    },
    {
      "cell_type": "code",
      "metadata": {
        "colab_type": "code",
        "id": "sYFXWrqKMqM-",
        "colab": {}
      },
      "source": [
        ""
      ],
      "execution_count": 0,
      "outputs": []
    },
    {
      "cell_type": "code",
      "metadata": {
        "colab_type": "code",
        "id": "04f0gXd8MqNA",
        "scrolled": true,
        "colab": {}
      },
      "source": [
        "X = sps.lil_matrix(sps.load_npz(file_path + \"X_data.npz\"))"
      ],
      "execution_count": 0,
      "outputs": []
    },
    {
      "cell_type": "markdown",
      "metadata": {
        "colab_type": "text",
        "id": "sHnSVwxxMqNG"
      },
      "source": [
        "#### Form the Document-Term Matrix for test data"
      ]
    },
    {
      "cell_type": "code",
      "metadata": {
        "colab_type": "code",
        "id": "LpPTF78ypa4F",
        "outputId": "26d67a23-19ea-47de-af49-9635bc890487",
        "colab": {
          "base_uri": "https://localhost:8080/",
          "height": 204
        }
      },
      "source": [
        "dat_test = pd.read_csv(file_path + \"test.csv\")\n",
        "dat_test.head(5)"
      ],
      "execution_count": 23,
      "outputs": [
        {
          "output_type": "execute_result",
          "data": {
            "text/html": [
              "<div>\n",
              "<style scoped>\n",
              "    .dataframe tbody tr th:only-of-type {\n",
              "        vertical-align: middle;\n",
              "    }\n",
              "\n",
              "    .dataframe tbody tr th {\n",
              "        vertical-align: top;\n",
              "    }\n",
              "\n",
              "    .dataframe thead th {\n",
              "        text-align: right;\n",
              "    }\n",
              "</style>\n",
              "<table border=\"1\" class=\"dataframe\">\n",
              "  <thead>\n",
              "    <tr style=\"text-align: right;\">\n",
              "      <th></th>\n",
              "      <th>id</th>\n",
              "      <th>comment_text</th>\n",
              "    </tr>\n",
              "  </thead>\n",
              "  <tbody>\n",
              "    <tr>\n",
              "      <th>0</th>\n",
              "      <td>00001cee341fdb12</td>\n",
              "      <td>Yo bitch Ja Rule is more succesful then you'll...</td>\n",
              "    </tr>\n",
              "    <tr>\n",
              "      <th>1</th>\n",
              "      <td>0000247867823ef7</td>\n",
              "      <td>== From RfC == \\n\\n The title is fine as it is...</td>\n",
              "    </tr>\n",
              "    <tr>\n",
              "      <th>2</th>\n",
              "      <td>00013b17ad220c46</td>\n",
              "      <td>\" \\n\\n == Sources == \\n\\n * Zawe Ashton on Lap...</td>\n",
              "    </tr>\n",
              "    <tr>\n",
              "      <th>3</th>\n",
              "      <td>00017563c3f7919a</td>\n",
              "      <td>:If you have a look back at the source, the in...</td>\n",
              "    </tr>\n",
              "    <tr>\n",
              "      <th>4</th>\n",
              "      <td>00017695ad8997eb</td>\n",
              "      <td>I don't anonymously edit articles at all.</td>\n",
              "    </tr>\n",
              "  </tbody>\n",
              "</table>\n",
              "</div>"
            ],
            "text/plain": [
              "                 id                                       comment_text\n",
              "0  00001cee341fdb12  Yo bitch Ja Rule is more succesful then you'll...\n",
              "1  0000247867823ef7  == From RfC == \\n\\n The title is fine as it is...\n",
              "2  00013b17ad220c46  \" \\n\\n == Sources == \\n\\n * Zawe Ashton on Lap...\n",
              "3  00017563c3f7919a  :If you have a look back at the source, the in...\n",
              "4  00017695ad8997eb          I don't anonymously edit articles at all."
            ]
          },
          "metadata": {
            "tags": []
          },
          "execution_count": 23
        }
      ]
    },
    {
      "cell_type": "code",
      "metadata": {
        "colab_type": "code",
        "id": "LUbMxmeIpbAV",
        "colab": {}
      },
      "source": [
        "n_test = dat_test.shape[0]"
      ],
      "execution_count": 0,
      "outputs": []
    },
    {
      "cell_type": "code",
      "metadata": {
        "colab_type": "code",
        "id": "8mrAz5yapbI0",
        "colab": {}
      },
      "source": [
        "X_test_raw = dat_test[\"comment_text\"]"
      ],
      "execution_count": 0,
      "outputs": []
    },
    {
      "cell_type": "code",
      "metadata": {
        "colab_type": "code",
        "id": "u89GUnGpqjH9",
        "colab": {}
      },
      "source": [
        "split_s = re.compile(r\"[a-z]+\", re.IGNORECASE)"
      ],
      "execution_count": 0,
      "outputs": []
    },
    {
      "cell_type": "code",
      "metadata": {
        "colab_type": "code",
        "id": "oaJQiq-BrPAp",
        "colab": {}
      },
      "source": [
        "X_test_raw1 = X_test_raw.apply(lambda s: split_s.findall(s.lower()))"
      ],
      "execution_count": 0,
      "outputs": []
    },
    {
      "cell_type": "code",
      "metadata": {
        "colab_type": "code",
        "id": "7S0iCin_rO79",
        "colab": {}
      },
      "source": [
        ""
      ],
      "execution_count": 0,
      "outputs": []
    },
    {
      "cell_type": "code",
      "metadata": {
        "colab_type": "code",
        "id": "-UWwFDGsrO3q",
        "colab": {}
      },
      "source": [
        ""
      ],
      "execution_count": 0,
      "outputs": []
    },
    {
      "cell_type": "code",
      "metadata": {
        "colab_type": "code",
        "id": "w95Gu_Hjqh-n",
        "colab": {}
      },
      "source": [
        "# no need to run this every time\n",
        "X_test = sps.lil_matrix((n_test, filtered_words.shape[0]), dtype=np.float64)\n",
        "for i in range(n_test):\n",
        "    X_test[i, np.in1d(filtered_words, X_raw1[i])] = 1\n",
        "sps.save_npz(file_path + \"X_test_data.npz\", sps.coo_matrix(X))"
      ],
      "execution_count": 0,
      "outputs": []
    },
    {
      "cell_type": "code",
      "metadata": {
        "colab_type": "code",
        "id": "2fi-YqpqqiFW",
        "colab": {}
      },
      "source": [
        ""
      ],
      "execution_count": 0,
      "outputs": []
    },
    {
      "cell_type": "code",
      "metadata": {
        "colab_type": "code",
        "id": "gyDWpmHIqiJH",
        "colab": {}
      },
      "source": [
        "X_test = sps.lil_matrix(sps.load_npz(file_path + \"X_test_data.npz\"))"
      ],
      "execution_count": 0,
      "outputs": []
    },
    {
      "cell_type": "code",
      "metadata": {
        "colab_type": "code",
        "id": "yf2_Z8VVqiMX",
        "outputId": "96219bc8-8009-4376-c636-51170e47cce6",
        "colab": {
          "base_uri": "https://localhost:8080/",
          "height": 34
        }
      },
      "source": [
        "X_test.shape"
      ],
      "execution_count": 29,
      "outputs": [
        {
          "output_type": "execute_result",
          "data": {
            "text/plain": [
              "(159571, 24633)"
            ]
          },
          "metadata": {
            "tags": []
          },
          "execution_count": 29
        }
      ]
    },
    {
      "cell_type": "code",
      "metadata": {
        "colab_type": "code",
        "id": "tpfcIMyvtg0s",
        "colab": {}
      },
      "source": [
        ""
      ],
      "execution_count": 0,
      "outputs": []
    },
    {
      "cell_type": "markdown",
      "metadata": {
        "colab_type": "text",
        "id": "x_6oae6IMqNJ"
      },
      "source": [
        "Construct training and validation data by using the given training data;\n",
        "\n",
        "Since the data is imbalanced with positive : negative = 1 : 9, I use half of positive cases while pick the same number of negatives to get the balanced training data, and the rest are all validation data"
      ]
    },
    {
      "cell_type": "code",
      "metadata": {
        "colab_type": "code",
        "id": "jqDoseigMqNK",
        "colab": {}
      },
      "source": [
        "# Create balanced training data\n",
        "npr.seed(2019)\n",
        "train = np.zeros(n, dtype = np.bool)\n",
        "n_p1 = np.sum(y == 1)\n",
        "train[npr.choice(np.nonzero(y == 1)[0], n_p1 // 2, replace=False)] = True\n",
        "train[npr.choice(np.nonzero(y != 1)[0], n_p1 // 2, replace=False)] = True\n",
        "test = np.logical_not(train)"
      ],
      "execution_count": 0,
      "outputs": []
    },
    {
      "cell_type": "markdown",
      "metadata": {
        "colab_type": "text",
        "id": "aLSMR3GfMqNM"
      },
      "source": [
        "Split data for Cross Validation"
      ]
    },
    {
      "cell_type": "code",
      "metadata": {
        "colab_type": "code",
        "id": "I3T08VTGMqNM",
        "colab": {}
      },
      "source": [
        "n_train = np.sum(train)\n",
        "n_test = np.sum(test)\n",
        "n_train_p = np.sum(y[train] == 1)\n",
        "n_train_n = np.sum(y[train] == -1)\n",
        "n_test_p = np.sum(y[test] == 1)\n",
        "n_test_n = np.sum(y[test] == -1)"
      ],
      "execution_count": 0,
      "outputs": []
    },
    {
      "cell_type": "code",
      "metadata": {
        "colab_type": "code",
        "id": "lGl2lQNPMqNP",
        "colab": {}
      },
      "source": [
        "k = 5\n",
        "train_idx = np.nonzero(train)[0]\n",
        "npr.shuffle(train_idx)\n",
        "cv_grid = np.linspace(0, n_train, k + 1).astype(np.int32)"
      ],
      "execution_count": 0,
      "outputs": []
    },
    {
      "cell_type": "code",
      "metadata": {
        "colab_type": "code",
        "id": "010SSNPxMqNR",
        "colab": {}
      },
      "source": [
        ""
      ],
      "execution_count": 0,
      "outputs": []
    },
    {
      "cell_type": "markdown",
      "metadata": {
        "colab_type": "text",
        "id": "Kq_6eBsTMqNX"
      },
      "source": [
        "## Fitting linear SVM & Logistic Regression"
      ]
    },
    {
      "cell_type": "markdown",
      "metadata": {
        "colab_type": "text",
        "id": "Beqnle7lMqNX"
      },
      "source": [
        "### 1. 5-fold Cross Validation; L2 penalty for SVM"
      ]
    },
    {
      "cell_type": "code",
      "metadata": {
        "colab_type": "code",
        "id": "3Yw87PPLMqNY",
        "outputId": "1517c9fe-3c00-401e-a5bb-152bf3341013",
        "colab": {}
      },
      "source": [
        "# grid search for C (penalty term)\n",
        "\n",
        "C_len = 20\n",
        "C_arr = np.exp(np.linspace(-5, 1, C_len))\n",
        "cv_err_linsvm = np.empty(C_len)\n",
        "train_cv = np.copy(train)\n",
        "for i in range(C_len):\n",
        "    svm_linear = svm.LinearSVC(penalty=\"l2\", dual=True, tol=1e-5, C=C_arr[i], max_iter=1000)\n",
        "    tmp_err = 0.0\n",
        "    for j in range(k):\n",
        "        train_cv[train_idx[cv_grid[j] : cv_grid[j + 1]]] = False\n",
        "        svm_linear.fit(X[train_cv, :], y[train_cv])\n",
        "        y_pred_k = svm_linear.predict(X[train_idx[cv_grid[j] : cv_grid[j + 1]]])\n",
        "        tmp_err += np.sum(y_pred_k != y[train_idx[cv_grid[j] : cv_grid[j + 1]]])\n",
        "        train_cv[train_idx[cv_grid[j] : cv_grid[j + 1]]] = True\n",
        "    cv_err_linsvm[i] = tmp_err / k"
      ],
      "execution_count": 0,
      "outputs": [
        {
          "output_type": "stream",
          "text": [
            "/Library/Frameworks/Python.framework/Versions/3.6/lib/python3.6/site-packages/sklearn/svm/base.py:931: ConvergenceWarning: Liblinear failed to converge, increase the number of iterations.\n",
            "  \"the number of iterations.\", ConvergenceWarning)\n"
          ],
          "name": "stderr"
        }
      ]
    },
    {
      "cell_type": "code",
      "metadata": {
        "colab_type": "code",
        "id": "E3-bt_9TMqNa",
        "outputId": "31d71246-eaa1-44b4-9291-1ab0168f68a2",
        "colab": {}
      },
      "source": [
        "fg = plt.figure(figsize=(6, 6))\n",
        "ax = fg.add_subplot(1, 1, 1)\n",
        "\n",
        "ax.set_xlabel(\"$\\lambda$\", size=\"large\")\n",
        "ax.set_ylabel(\"err\", size=25)\n",
        "ax.set_xscale(\"log\")\n",
        "\n",
        "line_cv = ax.plot(C_arr, cv_err_linsvm, label=\"cv_err\")\n",
        "ax.grid()\n",
        "\n",
        "ax.legend(loc=\"best\", fontsize=\"xx-large\")"
      ],
      "execution_count": 0,
      "outputs": [
        {
          "output_type": "execute_result",
          "data": {
            "text/plain": [
              "<matplotlib.legend.Legend at 0x161914f60>"
            ]
          },
          "metadata": {
            "tags": []
          },
          "execution_count": 97
        },
        {
          "output_type": "display_data",
          "data": {
            "image/png": "[encoded data removed]",
            "text/plain": [
              "<Figure size 432x432 with 1 Axes>"
            ]
          },
          "metadata": {
            "tags": [],
            "needs_background": "light"
          }
        }
      ]
    },
    {
      "cell_type": "markdown",
      "metadata": {
        "colab_type": "text",
        "id": "bUVyg57vMqNe"
      },
      "source": [
        "Find the optimal C which minimize the out of sample misclassification rate."
      ]
    },
    {
      "cell_type": "code",
      "metadata": {
        "colab_type": "code",
        "id": "9cd2lzWaMqNf",
        "outputId": "416f0acc-9814-4421-f60a-23fc58e6e485",
        "scrolled": true,
        "colab": {}
      },
      "source": [
        "C_opt_linsvm = C_arr[np.argmin(cv_err_linsvm)]\n",
        "C_opt_linsvm"
      ],
      "execution_count": 0,
      "outputs": [
        {
          "output_type": "execute_result",
          "data": {
            "text/plain": [
              "0.08427380392170362"
            ]
          },
          "metadata": {
            "tags": []
          },
          "execution_count": 98
        }
      ]
    },
    {
      "cell_type": "markdown",
      "metadata": {
        "colab_type": "text",
        "id": "elQ53Rr-MqNi"
      },
      "source": [
        "Re-train our model based on the optimal C"
      ]
    },
    {
      "cell_type": "code",
      "metadata": {
        "colab_type": "code",
        "id": "etF2x0oJMqNk",
        "colab": {}
      },
      "source": [
        "svm_linear = svm.LinearSVC(penalty=\"l2\", dual=True, tol=1e-5, C=C_opt_linsvm, max_iter=10000)\n",
        "svm_linear.fit(X[train, :], y[train])\n",
        "y_test_pred_linsvm = svm_linear.predict(X[test, :])"
      ],
      "execution_count": 0,
      "outputs": []
    },
    {
      "cell_type": "markdown",
      "metadata": {
        "colab_type": "text",
        "id": "YO9lHz40MqNo"
      },
      "source": [
        "Since false negative is more expensive than false positive, which means we misclassify toxic comments as non-toxic, the performance of SVM model using L2 penalty does not perform very well."
      ]
    },
    {
      "cell_type": "code",
      "metadata": {
        "colab_type": "code",
        "id": "MrRBf4S9MqNo",
        "outputId": "c1dea55d-e865-4ab5-ef44-33b5dec7786b",
        "colab": {}
      },
      "source": [
        "print(\"Misclassification rate:\", np.sum(y[test] != y_test_pred_linsvm) / float(n_test))\n",
        "print(\"False positive:\", np.sum(np.logical_and(y[test] == -1, y_test_pred_linsvm == 1)) / float(n_test_n))\n",
        "print(\"False negative:\", np.sum(np.logical_and(y[test] == 1, y_test_pred_linsvm == -1)) / float(n_test_p))"
      ],
      "execution_count": 0,
      "outputs": [
        {
          "output_type": "stream",
          "text": [
            "Misclassification rate: 0.0865870928585879\n",
            "False positive: 0.08400993832911842\n",
            "False negative: 0.12954517441143842\n"
          ],
          "name": "stdout"
        }
      ]
    },
    {
      "cell_type": "code",
      "metadata": {
        "colab_type": "code",
        "id": "5XAHv1iUMqNv",
        "colab": {}
      },
      "source": [
        ""
      ],
      "execution_count": 0,
      "outputs": []
    },
    {
      "cell_type": "markdown",
      "metadata": {
        "colab_type": "text",
        "id": "7W0fr2OUMqNy"
      },
      "source": [
        "### 2. 5-fold CV; Logistic regression"
      ]
    },
    {
      "cell_type": "markdown",
      "metadata": {
        "colab_type": "text",
        "id": "H_a2mrw-MqNy"
      },
      "source": [
        "To compare the performance of SVM and logistic regression, we use the Hinge loss for SVM, and binomial deviance for logistic regression. The binomial deviance can be viewed as a smooth approximation to the Hinge loss. So results may be close."
      ]
    },
    {
      "cell_type": "code",
      "metadata": {
        "colab_type": "code",
        "id": "bLkMSZiVMqNz",
        "outputId": "e4a49eea-6b3d-4124-dafb-2a53a6a55872",
        "colab": {}
      },
      "source": [
        "C_arr = np.exp(np.linspace(-4, 2, C_len))\n",
        "cv_err_logi = np.empty(C_len)\n",
        "train_cv = np.copy(train)\n",
        "for i in range(C_len):\n",
        "    logi = LogisticRegression(penalty=\"l2\", tol=1e-5, C=C_arr[i], max_iter=1000)\n",
        "    tmp_err = 0.0\n",
        "    for j in range(k):\n",
        "        train_cv[train_idx[cv_grid[j] : cv_grid[j + 1]]] = False\n",
        "        logi.fit(X[train_cv, :], y[train_cv])\n",
        "        y_pred_k = logi.predict(X[train_idx[cv_grid[j] : cv_grid[j + 1]]])\n",
        "        tmp_err += np.sum(y_pred_k != y[train_idx[cv_grid[j] : cv_grid[j + 1]]])\n",
        "        train_cv[train_idx[cv_grid[j] : cv_grid[j + 1]]] = True\n",
        "    cv_err_logi[i] = tmp_err / k"
      ],
      "execution_count": 0,
      "outputs": [
        {
          "output_type": "stream",
          "text": [
            "/Library/Frameworks/Python.framework/Versions/3.6/lib/python3.6/site-packages/sklearn/linear_model/logistic.py:433: FutureWarning: Default solver will be changed to 'lbfgs' in 0.22. Specify a solver to silence this warning.\n",
            "  FutureWarning)\n"
          ],
          "name": "stderr"
        }
      ]
    },
    {
      "cell_type": "code",
      "metadata": {
        "colab_type": "code",
        "id": "prw5upF4MqN1",
        "outputId": "1d38102f-32a3-4350-aaa3-ab62a43b3c07",
        "colab": {}
      },
      "source": [
        "fg = plt.figure(figsize=(6, 6))\n",
        "ax = fg.add_subplot(1, 1, 1)\n",
        "\n",
        "ax.set_xlabel(\"$\\lambda$\", size=\"large\")\n",
        "ax.set_ylabel(\"err\", size=25)\n",
        "ax.set_xscale(\"log\")\n",
        "\n",
        "line_cv = ax.plot(C_arr, cv_err_logi, label=\"cv_err\")\n",
        "ax.grid()\n",
        "\n",
        "ax.legend(loc=\"best\", fontsize=\"xx-large\")"
      ],
      "execution_count": 0,
      "outputs": [
        {
          "output_type": "execute_result",
          "data": {
            "text/plain": [
              "<matplotlib.legend.Legend at 0x15a425828>"
            ]
          },
          "metadata": {
            "tags": []
          },
          "execution_count": 102
        },
        {
          "output_type": "display_data",
          "data": {
            "image/png": "[encoded data removed]",
            "text/plain": [
              "<Figure size 432x432 with 1 Axes>"
            ]
          },
          "metadata": {
            "tags": [],
            "needs_background": "light"
          }
        }
      ]
    },
    {
      "cell_type": "code",
      "metadata": {
        "colab_type": "code",
        "id": "Hw4Pm8PiMqN3",
        "colab": {}
      },
      "source": [
        ""
      ],
      "execution_count": 0,
      "outputs": []
    },
    {
      "cell_type": "markdown",
      "metadata": {
        "colab_type": "text",
        "id": "LyW5ZVxaMqN7"
      },
      "source": [
        "Find the optimal C which minimize the out-of-sample misclassification rate."
      ]
    },
    {
      "cell_type": "code",
      "metadata": {
        "colab_type": "code",
        "id": "Rzg9LWxeMqN7",
        "outputId": "d3db651f-0034-4c4f-a2fe-9689e8d43a74",
        "colab": {}
      },
      "source": [
        "C_opt_logi = C_arr[np.argmin(cv_err_logi)]\n",
        "C_opt_logi"
      ],
      "execution_count": 0,
      "outputs": [
        {
          "output_type": "execute_result",
          "data": {
            "text/plain": [
              "0.8101577349324266"
            ]
          },
          "metadata": {
            "tags": []
          },
          "execution_count": 103
        }
      ]
    },
    {
      "cell_type": "code",
      "metadata": {
        "colab_type": "code",
        "id": "EgYxQPJ3MqN-",
        "colab": {}
      },
      "source": [
        ""
      ],
      "execution_count": 0,
      "outputs": []
    },
    {
      "cell_type": "markdown",
      "metadata": {
        "colab_type": "text",
        "id": "9UP5GpDTMqN_"
      },
      "source": [
        "Re-train our model based on the optimal C"
      ]
    },
    {
      "cell_type": "code",
      "metadata": {
        "colab_type": "code",
        "id": "VPgBnDp6MqOA",
        "colab": {}
      },
      "source": [
        "logi = LogisticRegression(penalty=\"l2\", tol=1e-5, C=C_opt_logi, max_iter=2000)\n",
        "logi.fit(X[train, :], y[train])\n",
        "y_test_pred_logi = logi.predict(X[test, :])"
      ],
      "execution_count": 0,
      "outputs": []
    },
    {
      "cell_type": "markdown",
      "metadata": {
        "colab_type": "text",
        "id": "mBTTCTINMqOB"
      },
      "source": [
        "The performance of SVM and logistic regression is very similar, both have ~0.13 false negative rate and ~0.08 false positive rate."
      ]
    },
    {
      "cell_type": "code",
      "metadata": {
        "colab_type": "code",
        "id": "1dtiwoWuMqOC",
        "outputId": "eaf48fa3-85d4-4510-f333-478833f51a99",
        "colab": {}
      },
      "source": [
        "print(\"Misclassification rate\", np.sum(y[test] != y_test_pred_logi) / float(n_test))\n",
        "print(\"False positive\", np.sum(np.logical_and(y[test] == -1, y_test_pred_logi == 1)) / float(n_test_n))\n",
        "print(\"False negative\", np.sum(np.logical_and(y[test] == 1, y_test_pred_logi == -1)) / float(n_test_p))"
      ],
      "execution_count": 0,
      "outputs": [
        {
          "output_type": "stream",
          "text": [
            "Misclassification rate 0.08657314070053786\n",
            "False positive 0.08404691127970776\n",
            "False negative 0.12868236164180943\n"
          ],
          "name": "stdout"
        }
      ]
    },
    {
      "cell_type": "markdown",
      "metadata": {
        "colab_type": "text",
        "id": "sOI1J-clMqOF"
      },
      "source": [
        "### imbalanced data, using cascades or increase false negative cost"
      ]
    },
    {
      "cell_type": "code",
      "metadata": {
        "colab_type": "code",
        "id": "w44UQfGtMqOG",
        "colab": {}
      },
      "source": [
        ""
      ],
      "execution_count": 0,
      "outputs": []
    },
    {
      "cell_type": "markdown",
      "metadata": {
        "colab_type": "text",
        "id": "cLBXF_oLMqOH"
      },
      "source": [
        "## Multi-category Classification"
      ]
    },
    {
      "cell_type": "markdown",
      "metadata": {
        "colab_type": "text",
        "id": "sTeSWa2-MqOH"
      },
      "source": [
        "We can still use the prepared split of training and test data, but instead of using binary y, we use the original y with 6 categories."
      ]
    },
    {
      "cell_type": "markdown",
      "metadata": {
        "colab_type": "text",
        "id": "FMKclBh0igLO"
      },
      "source": [
        "### 1. Logistic Regression"
      ]
    },
    {
      "cell_type": "code",
      "metadata": {
        "colab_type": "code",
        "id": "bSvducw4MqOI",
        "colab": {}
      },
      "source": [
        "C_arr = np.exp(np.linspace(-5, 1, C_arr_len))\n",
        "cv_err_linsvm = np.empty(C_arr_len)\n",
        "train_cv = np.copy(train)\n",
        "score_C = []\n",
        "for i in range(C_arr_len):\n",
        "    svm_linear_multi = svm.LinearSVC(penalty=\"l2\", dual=True, tol=1e-5, C=C_opt_linsvm, max_iter=10000)\n",
        "    \n",
        "    for j in range(k):\n",
        "        train_cv[train_idx[cv_grid[j] : cv_grid[j + 1]]] = False\n",
        "        clf.fit(X[train_cv, :], y_raw[train_cv, :])\n",
        "        y_pred_k = svm_linear.predict(X[train_idx[cv_grid[j] : cv_grid[j + 1]]])\n",
        "        tmp_err += np.sum(y_pred_k != y[train_idx[cv_grid[j] : cv_grid[j + 1]]])\n",
        "        train_cv[train_idx[cv_grid[j] : cv_grid[j + 1]]] = True\n",
        "    cv_err_linsvm[i] = tmp_err / k"
      ],
      "execution_count": 0,
      "outputs": []
    },
    {
      "cell_type": "code",
      "metadata": {
        "colab_type": "code",
        "id": "XE3vTQZijEZZ",
        "outputId": "1b3468f2-de0b-4e51-b5ef-6592ab8590c5",
        "colab": {
          "base_uri": "https://localhost:8080/",
          "height": 405
        }
      },
      "source": [
        "train_cv = np.copy(train)\n",
        "class_names = ['toxic', 'severe_toxic', 'obscene', 'threat', 'insult', 'identity_hate']\n",
        "\n",
        "\n",
        "svm_linear_multi = svm.LinearSVC(penalty=\"l2\", dual=True, tol=1e-5, C=0.08427380392170362, max_iter=10000, multi_class='ovr')\n",
        "train_cv[train_idx[cv_grid[0] : cv_grid[ 1]]] = False\n",
        "svm_linear_multi.fit(X[train_cv, :], y_raw[train_cv])\n",
        "j = 0\n",
        "y_pred_k = svm_linear_multi.predict(X[train_idx[cv_grid[j] : cv_grid[j + 1]]])\n"
      ],
      "execution_count": 0,
      "outputs": [
        {
          "output_type": "error",
          "ename": "ValueError",
          "evalue": "ignored",
          "traceback": [
            "\u001b[0;31m---------------------------------------------------------------------------\u001b[0m",
            "\u001b[0;31mValueError\u001b[0m                                Traceback (most recent call last)",
            "\u001b[0;32m<ipython-input-43-44125c365367>\u001b[0m in \u001b[0;36m<module>\u001b[0;34m()\u001b[0m\n\u001b[1;32m      2\u001b[0m \u001b[0msvm_linear_multi\u001b[0m \u001b[0;34m=\u001b[0m \u001b[0msvm\u001b[0m\u001b[0;34m.\u001b[0m\u001b[0mLinearSVC\u001b[0m\u001b[0;34m(\u001b[0m\u001b[0mpenalty\u001b[0m\u001b[0;34m=\u001b[0m\u001b[0;34m\"l2\"\u001b[0m\u001b[0;34m,\u001b[0m \u001b[0mdual\u001b[0m\u001b[0;34m=\u001b[0m\u001b[0;32mTrue\u001b[0m\u001b[0;34m,\u001b[0m \u001b[0mtol\u001b[0m\u001b[0;34m=\u001b[0m\u001b[0;36m1e-5\u001b[0m\u001b[0;34m,\u001b[0m \u001b[0mC\u001b[0m\u001b[0;34m=\u001b[0m\u001b[0;36m0.08427380392170362\u001b[0m\u001b[0;34m,\u001b[0m \u001b[0mmax_iter\u001b[0m\u001b[0;34m=\u001b[0m\u001b[0;36m10000\u001b[0m\u001b[0;34m,\u001b[0m \u001b[0mmulti_class\u001b[0m\u001b[0;34m=\u001b[0m\u001b[0;34m'ovr'\u001b[0m\u001b[0;34m)\u001b[0m\u001b[0;34m\u001b[0m\u001b[0;34m\u001b[0m\u001b[0m\n\u001b[1;32m      3\u001b[0m \u001b[0mtrain_cv\u001b[0m\u001b[0;34m[\u001b[0m\u001b[0mtrain_idx\u001b[0m\u001b[0;34m[\u001b[0m\u001b[0mcv_grid\u001b[0m\u001b[0;34m[\u001b[0m\u001b[0;36m0\u001b[0m\u001b[0;34m]\u001b[0m \u001b[0;34m:\u001b[0m \u001b[0mcv_grid\u001b[0m\u001b[0;34m[\u001b[0m \u001b[0;36m1\u001b[0m\u001b[0;34m]\u001b[0m\u001b[0;34m]\u001b[0m\u001b[0;34m]\u001b[0m \u001b[0;34m=\u001b[0m \u001b[0;32mFalse\u001b[0m\u001b[0;34m\u001b[0m\u001b[0;34m\u001b[0m\u001b[0m\n\u001b[0;32m----> 4\u001b[0;31m \u001b[0msvm_linear_multi\u001b[0m\u001b[0;34m.\u001b[0m\u001b[0mfit\u001b[0m\u001b[0;34m(\u001b[0m\u001b[0mX\u001b[0m\u001b[0;34m[\u001b[0m\u001b[0mtrain_cv\u001b[0m\u001b[0;34m,\u001b[0m \u001b[0;34m:\u001b[0m\u001b[0;34m]\u001b[0m\u001b[0;34m,\u001b[0m \u001b[0my_raw\u001b[0m\u001b[0;34m[\u001b[0m\u001b[0mtrain_cv\u001b[0m\u001b[0;34m]\u001b[0m\u001b[0;34m)\u001b[0m\u001b[0;34m\u001b[0m\u001b[0;34m\u001b[0m\u001b[0m\n\u001b[0m\u001b[1;32m      5\u001b[0m \u001b[0mj\u001b[0m \u001b[0;34m=\u001b[0m \u001b[0;36m0\u001b[0m\u001b[0;34m\u001b[0m\u001b[0;34m\u001b[0m\u001b[0m\n\u001b[1;32m      6\u001b[0m \u001b[0my_pred_k\u001b[0m \u001b[0;34m=\u001b[0m \u001b[0msvm_linear_multi\u001b[0m\u001b[0;34m.\u001b[0m\u001b[0mpredict\u001b[0m\u001b[0;34m(\u001b[0m\u001b[0mX\u001b[0m\u001b[0;34m[\u001b[0m\u001b[0mtrain_idx\u001b[0m\u001b[0;34m[\u001b[0m\u001b[0mcv_grid\u001b[0m\u001b[0;34m[\u001b[0m\u001b[0mj\u001b[0m\u001b[0;34m]\u001b[0m \u001b[0;34m:\u001b[0m \u001b[0mcv_grid\u001b[0m\u001b[0;34m[\u001b[0m\u001b[0mj\u001b[0m \u001b[0;34m+\u001b[0m \u001b[0;36m1\u001b[0m\u001b[0;34m]\u001b[0m\u001b[0;34m]\u001b[0m\u001b[0;34m]\u001b[0m\u001b[0;34m)\u001b[0m\u001b[0;34m\u001b[0m\u001b[0;34m\u001b[0m\u001b[0m\n",
            "\u001b[0;32m/usr/local/lib/python3.6/dist-packages/sklearn/svm/classes.py\u001b[0m in \u001b[0;36mfit\u001b[0;34m(self, X, y, sample_weight)\u001b[0m\n\u001b[1;32m    227\u001b[0m         X, y = check_X_y(X, y, accept_sparse='csr',\n\u001b[1;32m    228\u001b[0m                          \u001b[0mdtype\u001b[0m\u001b[0;34m=\u001b[0m\u001b[0mnp\u001b[0m\u001b[0;34m.\u001b[0m\u001b[0mfloat64\u001b[0m\u001b[0;34m,\u001b[0m \u001b[0morder\u001b[0m\u001b[0;34m=\u001b[0m\u001b[0;34m\"C\"\u001b[0m\u001b[0;34m,\u001b[0m\u001b[0;34m\u001b[0m\u001b[0;34m\u001b[0m\u001b[0m\n\u001b[0;32m--> 229\u001b[0;31m                          accept_large_sparse=False)\n\u001b[0m\u001b[1;32m    230\u001b[0m         \u001b[0mcheck_classification_targets\u001b[0m\u001b[0;34m(\u001b[0m\u001b[0my\u001b[0m\u001b[0;34m)\u001b[0m\u001b[0;34m\u001b[0m\u001b[0;34m\u001b[0m\u001b[0m\n\u001b[1;32m    231\u001b[0m         \u001b[0mself\u001b[0m\u001b[0;34m.\u001b[0m\u001b[0mclasses_\u001b[0m \u001b[0;34m=\u001b[0m \u001b[0mnp\u001b[0m\u001b[0;34m.\u001b[0m\u001b[0munique\u001b[0m\u001b[0;34m(\u001b[0m\u001b[0my\u001b[0m\u001b[0;34m)\u001b[0m\u001b[0;34m\u001b[0m\u001b[0;34m\u001b[0m\u001b[0m\n",
            "\u001b[0;32m/usr/local/lib/python3.6/dist-packages/sklearn/utils/validation.py\u001b[0m in \u001b[0;36mcheck_X_y\u001b[0;34m(X, y, accept_sparse, accept_large_sparse, dtype, order, copy, force_all_finite, ensure_2d, allow_nd, multi_output, ensure_min_samples, ensure_min_features, y_numeric, warn_on_dtype, estimator)\u001b[0m\n\u001b[1;32m    722\u001b[0m                         dtype=None)\n\u001b[1;32m    723\u001b[0m     \u001b[0;32melse\u001b[0m\u001b[0;34m:\u001b[0m\u001b[0;34m\u001b[0m\u001b[0;34m\u001b[0m\u001b[0m\n\u001b[0;32m--> 724\u001b[0;31m         \u001b[0my\u001b[0m \u001b[0;34m=\u001b[0m \u001b[0mcolumn_or_1d\u001b[0m\u001b[0;34m(\u001b[0m\u001b[0my\u001b[0m\u001b[0;34m,\u001b[0m \u001b[0mwarn\u001b[0m\u001b[0;34m=\u001b[0m\u001b[0;32mTrue\u001b[0m\u001b[0;34m)\u001b[0m\u001b[0;34m\u001b[0m\u001b[0;34m\u001b[0m\u001b[0m\n\u001b[0m\u001b[1;32m    725\u001b[0m         \u001b[0m_assert_all_finite\u001b[0m\u001b[0;34m(\u001b[0m\u001b[0my\u001b[0m\u001b[0;34m)\u001b[0m\u001b[0;34m\u001b[0m\u001b[0;34m\u001b[0m\u001b[0m\n\u001b[1;32m    726\u001b[0m     \u001b[0;32mif\u001b[0m \u001b[0my_numeric\u001b[0m \u001b[0;32mand\u001b[0m \u001b[0my\u001b[0m\u001b[0;34m.\u001b[0m\u001b[0mdtype\u001b[0m\u001b[0;34m.\u001b[0m\u001b[0mkind\u001b[0m \u001b[0;34m==\u001b[0m \u001b[0;34m'O'\u001b[0m\u001b[0;34m:\u001b[0m\u001b[0;34m\u001b[0m\u001b[0;34m\u001b[0m\u001b[0m\n",
            "\u001b[0;32m/usr/local/lib/python3.6/dist-packages/sklearn/utils/validation.py\u001b[0m in \u001b[0;36mcolumn_or_1d\u001b[0;34m(y, warn)\u001b[0m\n\u001b[1;32m    758\u001b[0m         \u001b[0;32mreturn\u001b[0m \u001b[0mnp\u001b[0m\u001b[0;34m.\u001b[0m\u001b[0mravel\u001b[0m\u001b[0;34m(\u001b[0m\u001b[0my\u001b[0m\u001b[0;34m)\u001b[0m\u001b[0;34m\u001b[0m\u001b[0;34m\u001b[0m\u001b[0m\n\u001b[1;32m    759\u001b[0m \u001b[0;34m\u001b[0m\u001b[0m\n\u001b[0;32m--> 760\u001b[0;31m     \u001b[0;32mraise\u001b[0m \u001b[0mValueError\u001b[0m\u001b[0;34m(\u001b[0m\u001b[0;34m\"bad input shape {0}\"\u001b[0m\u001b[0;34m.\u001b[0m\u001b[0mformat\u001b[0m\u001b[0;34m(\u001b[0m\u001b[0mshape\u001b[0m\u001b[0;34m)\u001b[0m\u001b[0;34m)\u001b[0m\u001b[0;34m\u001b[0m\u001b[0;34m\u001b[0m\u001b[0m\n\u001b[0m\u001b[1;32m    761\u001b[0m \u001b[0;34m\u001b[0m\u001b[0m\n\u001b[1;32m    762\u001b[0m \u001b[0;34m\u001b[0m\u001b[0m\n",
            "\u001b[0;31mValueError\u001b[0m: bad input shape (12980, 6)"
          ]
        }
      ]
    },
    {
      "cell_type": "code",
      "metadata": {
        "colab_type": "code",
        "id": "g_6VjL8cnL3J",
        "outputId": "375e91ed-494d-4814-e647-d4332d6c3316",
        "colab": {
          "base_uri": "https://localhost:8080/",
          "height": 204
        }
      },
      "source": [
        "test = pd.read_csv(file_path + 'test.csv')\n",
        "test.head()"
      ],
      "execution_count": 30,
      "outputs": [
        {
          "output_type": "execute_result",
          "data": {
            "text/html": [
              "<div>\n",
              "<style scoped>\n",
              "    .dataframe tbody tr th:only-of-type {\n",
              "        vertical-align: middle;\n",
              "    }\n",
              "\n",
              "    .dataframe tbody tr th {\n",
              "        vertical-align: top;\n",
              "    }\n",
              "\n",
              "    .dataframe thead th {\n",
              "        text-align: right;\n",
              "    }\n",
              "</style>\n",
              "<table border=\"1\" class=\"dataframe\">\n",
              "  <thead>\n",
              "    <tr style=\"text-align: right;\">\n",
              "      <th></th>\n",
              "      <th>id</th>\n",
              "      <th>comment_text</th>\n",
              "    </tr>\n",
              "  </thead>\n",
              "  <tbody>\n",
              "    <tr>\n",
              "      <th>0</th>\n",
              "      <td>00001cee341fdb12</td>\n",
              "      <td>Yo bitch Ja Rule is more succesful then you'll...</td>\n",
              "    </tr>\n",
              "    <tr>\n",
              "      <th>1</th>\n",
              "      <td>0000247867823ef7</td>\n",
              "      <td>== From RfC == \\n\\n The title is fine as it is...</td>\n",
              "    </tr>\n",
              "    <tr>\n",
              "      <th>2</th>\n",
              "      <td>00013b17ad220c46</td>\n",
              "      <td>\" \\n\\n == Sources == \\n\\n * Zawe Ashton on Lap...</td>\n",
              "    </tr>\n",
              "    <tr>\n",
              "      <th>3</th>\n",
              "      <td>00017563c3f7919a</td>\n",
              "      <td>:If you have a look back at the source, the in...</td>\n",
              "    </tr>\n",
              "    <tr>\n",
              "      <th>4</th>\n",
              "      <td>00017695ad8997eb</td>\n",
              "      <td>I don't anonymously edit articles at all.</td>\n",
              "    </tr>\n",
              "  </tbody>\n",
              "</table>\n",
              "</div>"
            ],
            "text/plain": [
              "                 id                                       comment_text\n",
              "0  00001cee341fdb12  Yo bitch Ja Rule is more succesful then you'll...\n",
              "1  0000247867823ef7  == From RfC == \\n\\n The title is fine as it is...\n",
              "2  00013b17ad220c46  \" \\n\\n == Sources == \\n\\n * Zawe Ashton on Lap...\n",
              "3  00017563c3f7919a  :If you have a look back at the source, the in...\n",
              "4  00017695ad8997eb          I don't anonymously edit articles at all."
            ]
          },
          "metadata": {
            "tags": []
          },
          "execution_count": 30
        }
      ]
    },
    {
      "cell_type": "code",
      "metadata": {
        "colab_type": "code",
        "id": "_9zuKXqNnUNR",
        "colab": {}
      },
      "source": [
        "submission = pd.read_csv(file_path + 'sample_submission.csv')"
      ],
      "execution_count": 0,
      "outputs": []
    },
    {
      "cell_type": "code",
      "metadata": {
        "colab_type": "code",
        "id": "8T-YhCAenbHk",
        "outputId": "a513298e-c890-4c3b-80cd-33cda1fea874",
        "colab": {
          "base_uri": "https://localhost:8080/",
          "height": 204
        }
      },
      "source": [
        "submission.head(5)"
      ],
      "execution_count": 32,
      "outputs": [
        {
          "output_type": "execute_result",
          "data": {
            "text/html": [
              "<div>\n",
              "<style scoped>\n",
              "    .dataframe tbody tr th:only-of-type {\n",
              "        vertical-align: middle;\n",
              "    }\n",
              "\n",
              "    .dataframe tbody tr th {\n",
              "        vertical-align: top;\n",
              "    }\n",
              "\n",
              "    .dataframe thead th {\n",
              "        text-align: right;\n",
              "    }\n",
              "</style>\n",
              "<table border=\"1\" class=\"dataframe\">\n",
              "  <thead>\n",
              "    <tr style=\"text-align: right;\">\n",
              "      <th></th>\n",
              "      <th>id</th>\n",
              "      <th>toxic</th>\n",
              "      <th>severe_toxic</th>\n",
              "      <th>obscene</th>\n",
              "      <th>threat</th>\n",
              "      <th>insult</th>\n",
              "      <th>identity_hate</th>\n",
              "    </tr>\n",
              "  </thead>\n",
              "  <tbody>\n",
              "    <tr>\n",
              "      <th>0</th>\n",
              "      <td>00001cee341fdb12</td>\n",
              "      <td>0.5</td>\n",
              "      <td>0.5</td>\n",
              "      <td>0.5</td>\n",
              "      <td>0.5</td>\n",
              "      <td>0.5</td>\n",
              "      <td>0.5</td>\n",
              "    </tr>\n",
              "    <tr>\n",
              "      <th>1</th>\n",
              "      <td>0000247867823ef7</td>\n",
              "      <td>0.5</td>\n",
              "      <td>0.5</td>\n",
              "      <td>0.5</td>\n",
              "      <td>0.5</td>\n",
              "      <td>0.5</td>\n",
              "      <td>0.5</td>\n",
              "    </tr>\n",
              "    <tr>\n",
              "      <th>2</th>\n",
              "      <td>00013b17ad220c46</td>\n",
              "      <td>0.5</td>\n",
              "      <td>0.5</td>\n",
              "      <td>0.5</td>\n",
              "      <td>0.5</td>\n",
              "      <td>0.5</td>\n",
              "      <td>0.5</td>\n",
              "    </tr>\n",
              "    <tr>\n",
              "      <th>3</th>\n",
              "      <td>00017563c3f7919a</td>\n",
              "      <td>0.5</td>\n",
              "      <td>0.5</td>\n",
              "      <td>0.5</td>\n",
              "      <td>0.5</td>\n",
              "      <td>0.5</td>\n",
              "      <td>0.5</td>\n",
              "    </tr>\n",
              "    <tr>\n",
              "      <th>4</th>\n",
              "      <td>00017695ad8997eb</td>\n",
              "      <td>0.5</td>\n",
              "      <td>0.5</td>\n",
              "      <td>0.5</td>\n",
              "      <td>0.5</td>\n",
              "      <td>0.5</td>\n",
              "      <td>0.5</td>\n",
              "    </tr>\n",
              "  </tbody>\n",
              "</table>\n",
              "</div>"
            ],
            "text/plain": [
              "                 id  toxic  severe_toxic  ...  threat  insult  identity_hate\n",
              "0  00001cee341fdb12    0.5           0.5  ...     0.5     0.5            0.5\n",
              "1  0000247867823ef7    0.5           0.5  ...     0.5     0.5            0.5\n",
              "2  00013b17ad220c46    0.5           0.5  ...     0.5     0.5            0.5\n",
              "3  00017563c3f7919a    0.5           0.5  ...     0.5     0.5            0.5\n",
              "4  00017695ad8997eb    0.5           0.5  ...     0.5     0.5            0.5\n",
              "\n",
              "[5 rows x 7 columns]"
            ]
          },
          "metadata": {
            "tags": []
          },
          "execution_count": 32
        }
      ]
    },
    {
      "cell_type": "markdown",
      "metadata": {
        "colab_type": "text",
        "id": "xdplRxH5wEa6"
      },
      "source": [
        "Tune penalty term"
      ]
    },
    {
      "cell_type": "code",
      "metadata": {
        "colab_type": "code",
        "id": "VCjmHDSQt5q5",
        "colab": {}
      },
      "source": [
        "C_len = 20\n",
        "C_arr = np.exp(np.linspace(-4, 2, C_len))\n",
        "\n",
        "class_names = ['toxic', 'severe_toxic', 'obscene', 'threat', 'insult', 'identity_hate']\n",
        "\n",
        "submission = pd.DataFrame.from_dict({'id': dat_test['id']})\n",
        "\n",
        "cv_score = np.zeros((C_len,6))\n",
        "  \n",
        "for i in range(C_len):\n",
        "  \n",
        "    \n",
        "    for j in range(len(class_names)):\n",
        "\n",
        "      train_target = y_raw[class_names[j]]\n",
        "      log_0 = LogisticRegression(penalty=\"l2\", tol=1e-5, C=C_arr[i], max_iter=1000, solver='sag')  # solver = 'sag' supports multinomial loss\n",
        "      \n",
        "      score = np.mean(cross_val_score(log_0, X, train_target, cv = 3, scoring='roc_auc'))\n",
        "      cv_score[i][j] = score\n"
      ],
      "execution_count": 0,
      "outputs": []
    },
    {
      "cell_type": "code",
      "metadata": {
        "colab_type": "code",
        "id": "NafPLegk-75w",
        "colab": {}
      },
      "source": [
        "cv_score_pd = pd.DataFrame(cv_score, columns = class_names)\n",
        "cv_score_pd"
      ],
      "execution_count": 0,
      "outputs": []
    },
    {
      "cell_type": "markdown",
      "metadata": {
        "colab_type": "text",
        "id": "VLIrYvxe2Rjx"
      },
      "source": [
        "Retrain the model with optimal C for each corresponding column, and generate test results\n",
        "\n"
      ]
    },
    {
      "cell_type": "code",
      "metadata": {
        "colab_type": "code",
        "id": "PVD9bGPr2oJT",
        "colab": {}
      },
      "source": [
        "scores_log = []\n",
        "submission_2 = pd.DataFrame.from_dict({'id': dat_test['id']})\n",
        "for class_name in class_names:\n",
        "    train_target = y_raw[class_name]\n",
        "    C_opt_log0= C_arr[np.argmax(cv_score_pd[class_name])]\n",
        "    classifier = LogisticRegression(C = C_opt_log0, solver='sag')\n",
        "\n",
        "    score = np.mean(cross_val_score(classifier, X, train_target, cv=3, scoring='roc_auc'))\n",
        "    scores_log.append(score)\n",
        "    print('CV score for class {} is {}'.format(class_name, scores_log))\n",
        "\n",
        "    classifier.fit(X, train_target)\n",
        "    submission_2[class_name] = classifier.predict_proba(X_test)[:, 1]\n",
        "\n",
        "print('Total CV score is {}'.format(np.mean(scores_log))\n",
        "\n",
        "submission_2.to_csv(file_path + 'submission_2.csv', index=False)"
      ],
      "execution_count": 0,
      "outputs": []
    },
    {
      "cell_type": "code",
      "metadata": {
        "colab_type": "code",
        "id": "M4ZHmPzA2oNT",
        "colab": {}
      },
      "source": [
        ""
      ],
      "execution_count": 0,
      "outputs": []
    },
    {
      "cell_type": "markdown",
      "metadata": {
        "colab_type": "text",
        "id": "qskpDLHCMqOM"
      },
      "source": [
        "### 2. SVM"
      ]
    },
    {
      "cell_type": "code",
      "metadata": {
        "colab_type": "code",
        "id": "MxucgCM6MqON",
        "colab": {}
      },
      "source": [
        "C_len = 20\n",
        "C_arr = np.exp(np.linspace(-5, 1, C_arr_len))\n",
        "\n",
        "class_names = ['toxic', 'severe_toxic', 'obscene', 'threat', 'insult', 'identity_hate']\n",
        "\n",
        "\n",
        "cv_score_svm = np.zeros((C_len,6))\n",
        "  \n",
        "for i in range(C_len):\n",
        "  \n",
        "    \n",
        "    for j in range(len(class_names)):\n",
        "\n",
        "      train_target = y_raw[class_names[j]]\n",
        "      svm_0 = svm.LinearSVC(penalty=\"l2\", tol=1e-5, C=C_arr[i], max_iter=1000)  # solver = 'sag' supports multinomial loss\n",
        "      \n",
        "      score = np.mean(cross_val_score(svm_0, X, train_target, cv = 3, scoring='roc_auc'))\n",
        "      cv_score_svm[i][j] = score\n",
        "     \n",
        "      \n",
        "      "
      ],
      "execution_count": 0,
      "outputs": []
    },
    {
      "cell_type": "code",
      "metadata": {
        "colab_type": "code",
        "id": "JEQBpD2zEESu",
        "colab": {}
      },
      "source": [
        "cv_score_svm_pd = pd.DataFrame(cv_score_svm, columns = class_names)\n",
        "cv_score_svm_pd"
      ],
      "execution_count": 0,
      "outputs": []
    },
    {
      "cell_type": "code",
      "metadata": {
        "colab_type": "code",
        "id": "lRKsPob3EEPU",
        "colab": {}
      },
      "source": [
        "scores_svm = []\n",
        "submission_3 = pd.DataFrame.from_dict({'id': dat_test['id']})\n",
        "\n",
        "for class_name in class_names:\n",
        "    train_target = y_raw[class_name]\n",
        "    C_opt_svm0= C_arr[np.argmax(cv_score_svm_pd[class_name])]\n",
        "    classifier = svm.LinearSVC(C = C_opt_svm0)\n",
        "\n",
        "    score = np.mean(cross_val_score(classifier, X, train_target, cv=3, scoring='roc_auc'))\n",
        "    scores_svm.append(score)\n",
        "    print('CV score for class {} is {}'.format(class_name, scores_svm))\n",
        "\n",
        "    classifier.fit(X, train_target)\n",
        "    submission_3[class_name] = classifier.predict_proba(X_test)[:, 1]\n",
        "\n",
        "print('Total CV score is {}'.format(np.mean(scores_svm)))\n",
        "\n",
        "submission_3.to_csv('drive/My Drive/Colab_Notebooks/submission_3.csv', index=False)"
      ],
      "execution_count": 0,
      "outputs": []
    },
    {
      "cell_type": "code",
      "metadata": {
        "colab_type": "code",
        "id": "nSOl1X8nEEH_",
        "colab": {}
      },
      "source": [
        ""
      ],
      "execution_count": 0,
      "outputs": []
    },
    {
      "cell_type": "code",
      "metadata": {
        "colab_type": "code",
        "id": "U0QZ8NtAMqOU",
        "colab": {}
      },
      "source": [
        ""
      ],
      "execution_count": 0,
      "outputs": []
    },
    {
      "cell_type": "code",
      "metadata": {
        "colab_type": "code",
        "id": "iES4KvJfMqOY",
        "colab": {}
      },
      "source": [
        ""
      ],
      "execution_count": 0,
      "outputs": []
    }
  ]
}